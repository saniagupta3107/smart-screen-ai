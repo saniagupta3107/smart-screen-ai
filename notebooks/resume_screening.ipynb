{
 "cells": [
  {
   "cell_type": "code",
   "execution_count": 27,
   "id": "18023e81",
   "metadata": {},
   "outputs": [],
   "source": [
    "import pandas as pd\n",
    "from sklearn.feature_extraction.text import TfidfVectorizer\n",
    "from sklearn.metrics.pairwise import cosine_similarity"
   ]
  },
  {
   "cell_type": "code",
   "execution_count": null,
   "id": "6995df69",
   "metadata": {},
   "outputs": [
    {
     "data": {
      "text/html": [
       "<div>\n",
       "<style scoped>\n",
       "    .dataframe tbody tr th:only-of-type {\n",
       "        vertical-align: middle;\n",
       "    }\n",
       "\n",
       "    .dataframe tbody tr th {\n",
       "        vertical-align: top;\n",
       "    }\n",
       "\n",
       "    .dataframe thead th {\n",
       "        text-align: right;\n",
       "    }\n",
       "</style>\n",
       "<table border=\"1\" class=\"dataframe\">\n",
       "  <thead>\n",
       "    <tr style=\"text-align: right;\">\n",
       "      <th></th>\n",
       "      <th>Category</th>\n",
       "      <th>Resume</th>\n",
       "    </tr>\n",
       "  </thead>\n",
       "  <tbody>\n",
       "    <tr>\n",
       "      <th>0</th>\n",
       "      <td>Data Science</td>\n",
       "      <td>Skills * Programming Languages: Python (pandas...</td>\n",
       "    </tr>\n",
       "    <tr>\n",
       "      <th>1</th>\n",
       "      <td>Data Science</td>\n",
       "      <td>Education Details \\r\\nMay 2013 to May 2017 B.E...</td>\n",
       "    </tr>\n",
       "    <tr>\n",
       "      <th>2</th>\n",
       "      <td>Data Science</td>\n",
       "      <td>Areas of Interest Deep Learning, Control Syste...</td>\n",
       "    </tr>\n",
       "    <tr>\n",
       "      <th>3</th>\n",
       "      <td>Data Science</td>\n",
       "      <td>Skills â¢ R â¢ Python â¢ SAP HANA â¢ Table...</td>\n",
       "    </tr>\n",
       "    <tr>\n",
       "      <th>4</th>\n",
       "      <td>Data Science</td>\n",
       "      <td>Education Details \\r\\n MCA   YMCAUST,  Faridab...</td>\n",
       "    </tr>\n",
       "    <tr>\n",
       "      <th>...</th>\n",
       "      <td>...</td>\n",
       "      <td>...</td>\n",
       "    </tr>\n",
       "    <tr>\n",
       "      <th>957</th>\n",
       "      <td>Testing</td>\n",
       "      <td>Computer Skills: â¢ Proficient in MS office (...</td>\n",
       "    </tr>\n",
       "    <tr>\n",
       "      <th>958</th>\n",
       "      <td>Testing</td>\n",
       "      <td>â Willingness to accept the challenges. â ...</td>\n",
       "    </tr>\n",
       "    <tr>\n",
       "      <th>959</th>\n",
       "      <td>Testing</td>\n",
       "      <td>PERSONAL SKILLS â¢ Quick learner, â¢ Eagerne...</td>\n",
       "    </tr>\n",
       "    <tr>\n",
       "      <th>960</th>\n",
       "      <td>Testing</td>\n",
       "      <td>COMPUTER SKILLS &amp; SOFTWARE KNOWLEDGE MS-Power ...</td>\n",
       "    </tr>\n",
       "    <tr>\n",
       "      <th>961</th>\n",
       "      <td>Testing</td>\n",
       "      <td>Skill Set OS Windows XP/7/8/8.1/10 Database MY...</td>\n",
       "    </tr>\n",
       "  </tbody>\n",
       "</table>\n",
       "<p>962 rows × 2 columns</p>\n",
       "</div>"
      ],
      "text/plain": [
       "         Category                                             Resume\n",
       "0    Data Science  Skills * Programming Languages: Python (pandas...\n",
       "1    Data Science  Education Details \\r\\nMay 2013 to May 2017 B.E...\n",
       "2    Data Science  Areas of Interest Deep Learning, Control Syste...\n",
       "3    Data Science  Skills â¢ R â¢ Python â¢ SAP HANA â¢ Table...\n",
       "4    Data Science  Education Details \\r\\n MCA   YMCAUST,  Faridab...\n",
       "..            ...                                                ...\n",
       "957       Testing  Computer Skills: â¢ Proficient in MS office (...\n",
       "958       Testing  â Willingness to accept the challenges. â ...\n",
       "959       Testing  PERSONAL SKILLS â¢ Quick learner, â¢ Eagerne...\n",
       "960       Testing  COMPUTER SKILLS & SOFTWARE KNOWLEDGE MS-Power ...\n",
       "961       Testing  Skill Set OS Windows XP/7/8/8.1/10 Database MY...\n",
       "\n",
       "[962 rows x 2 columns]"
      ]
     },
     "execution_count": 28,
     "metadata": {},
     "output_type": "execute_result"
    }
   ],
   "source": [
    "df = pd.read_csv('../data/resumes.csv')\n",
    "df"
   ]
  },
  {
   "cell_type": "code",
   "execution_count": 29,
   "id": "13a7b57e",
   "metadata": {},
   "outputs": [
    {
     "data": {
      "text/plain": [
       "array(['Data Science', 'HR', 'Advocate', 'Arts', 'Web Designing',\n",
       "       'Mechanical Engineer', 'Sales', 'Health and fitness',\n",
       "       'Civil Engineer', 'Java Developer', 'Business Analyst',\n",
       "       'SAP Developer', 'Automation Testing', 'Electrical Engineering',\n",
       "       'Operations Manager', 'Python Developer', 'DevOps Engineer',\n",
       "       'Network Security Engineer', 'PMO', 'Database', 'Hadoop',\n",
       "       'ETL Developer', 'DotNet Developer', 'Blockchain', 'Testing'],\n",
       "      dtype=object)"
      ]
     },
     "execution_count": 29,
     "metadata": {},
     "output_type": "execute_result"
    }
   ],
   "source": [
    "df['Category'].unique()"
   ]
  },
  {
   "cell_type": "code",
   "execution_count": 26,
   "id": "365ab7a2",
   "metadata": {},
   "outputs": [],
   "source": [
    "job_description = \"\"\"\n",
    "About the job\n",
    "Software Developer\n",
    "\n",
    "\n",
    "\n",
    "Department: Software development team\n",
    "Starting date: Immediately upon Selection\n",
    "Report to: Software Development Manager\n",
    "Location: Elsyca HQ, Wijgmaal, Leuven\n",
    "Employment: Full time\n",
    "\n",
    "\n",
    "The Opportunity\n",
    "\n",
    "Elsyca is seeking a passionate and driven Software Developer to join our innovative software development team working on the numerical modeling of electrochemical processes. This is a unique opportunity to work on advanced simulation and modeling tools that support various industries including automotive, aerospace, electronics, medical and energy.\n",
    "In this role, you will contribute to the ongoing digital transformation of diverse industries by building cutting-edge desktop applications that enhance operational efficiency and performance.\n",
    "\n",
    "\n",
    "The Role\n",
    "\n",
    "As a Software Developer, you will be instrumental in developing high-quality desktop applications that empower our users in optimizing their manufacturing and operational processes. You will work closely with a talented team of developers and domain experts to ensure our software solutions are robust, intuitive, and efficient.\n",
    "Key responsibilities include implementing new features, resolving technical challenges, and collaborating on innovative tools that address the needs of this highly technical and impactful industry.\n",
    "This is an exciting opportunity to play a key role in delivering Elsyca’s cutting-edge solutions while growing your expertise in software development.\n",
    "\n",
    "\n",
    "Key Responsibilities\n",
    "\n",
    "The successful candidate will be part of the software development team. His (her) task will be to:\n",
    "Design, develop and test software programs that are leading the way in this industry.\n",
    "Maintain the software programs once they are up and running.\n",
    "Communicate and collaborate as team member/teammate in the software development team.\n",
    "Interact with the application and consulting & engineering team to discuss new specifications.\n",
    "Contribute to DevOps practices to streamline software development, deployment, and maintenance processes.\n",
    "Report to the software development manager.\n",
    "\n",
    "\n",
    "About you\n",
    "\n",
    "BS, MS or PhD in Computer Science or programming, or equivalent by experience.\n",
    "Experience in software development and architecture on Windows and/or Linux.\n",
    "Very good understanding of object-oriented design, data structures and algorithms.\n",
    "Experience with TDD, Unit Testing and Agile software development.\n",
    "Good understanding on the design of graphical user interfaces.\n",
    "Experience in the creation and management of a product suite architecture.\n",
    "Monitor system performance, logs, and alerts to detect and resolve issues proactively.\n",
    "Excellent problem-solving skills.\n",
    "Fluent English (knowledge of Dutch and/or German, French is favorable).\n",
    "Have good communications skills.\n",
    "Be able to work as an individual and as part of a team.\n",
    "Be able to work to tight deadlines.\n",
    "Work in a logical manner.\n",
    "Demonstrate good attention to detail.\n",
    "\n",
    "\n",
    "Bonus Skills:\n",
    "Experience with C++, Qt / Qml (https://www.qt.io/developers).\n",
    "Familiarity with scientific calculations, like Finite Element Methods.\n",
    "Familiarity with AI concepts, tools, or frameworks, or an eagerness to gain experience in this field.\n",
    "Knowledge of database design, Sql, usage, or a willingness to develop expertise in this area.\n",
    "Automation of software deployment, testing, and monitoring to improve efficiency and reliability.\n",
    "Experience with Python, Jenkins, GitHub, OpenProject.\n",
    "\n",
    "\n",
    "What we offer\n",
    "\n",
    "Elsyca offers you a challenging and varied job content.\n",
    "Full-time employment in a dynamic and highly ambitious company.\n",
    "The opportunity to contribute to the expansion of a trusted global brand in technical excellence.\n",
    "Work autonomy with a results-oriented culture.\n",
    "Access to professional development and training opportunities.\n",
    "An attractive salary aligned with your experience and impact.\n",
    "\n",
    "\n",
    "About Elsyca\n",
    "\n",
    "Founded in 1997, Elsyca is the culmination of research efforts in numerical modeling of electrochemical processes. Its name is derived from 'electrochemical system calculations'.\n",
    "Today, Elsyca is active in the markets of corrosion design & engineering, cathodic protection & AC mitigation, surface finishing, and electrochemical manufacturing within a variety of industries – such as automotive, aerospace, electronics, medical and energy. The combination of the practical engineering knowledge, the in-house developed family of engineering simulation tools, and the continuous focus on R&D and innovation has established Elsyca as a trustworthy and appreciated partner for many clients across the globe.\n",
    "Elsyca’s reliable and innovative solutions meet market expectations by reducing the cost of manufacturing goods or ownership of assets. Everyday Elsyca’s employees work to keep pipelines operating safely, to advance renewable offshore energy or to produce goods with less natural resources.\n",
    "\n",
    "\n",
    "Contact\n",
    "\n",
    "If you have any questions or if you would like to apply, send an email to recruitment@elsyca.com.\n",
    "\"\"\"\n"
   ]
  },
  {
   "cell_type": "code",
   "execution_count": 30,
   "id": "bc6b9be3",
   "metadata": {},
   "outputs": [],
   "source": [
    "# Step 2: Combine job description and resumes for vectorization\n",
    "documents = [job_description] + df['Resume'].tolist()"
   ]
  },
  {
   "cell_type": "code",
   "execution_count": 31,
   "id": "97f56841",
   "metadata": {},
   "outputs": [],
   "source": [
    "# Step 3: Vectorize using TF-IDF\n",
    "vectorizer = TfidfVectorizer(stop_words='english')\n",
    "tfidf_matrix = vectorizer.fit_transform(documents)"
   ]
  },
  {
   "cell_type": "code",
   "execution_count": null,
   "id": "a16fdbf1",
   "metadata": {},
   "outputs": [],
   "source": [
    "# Step 4: Compute cosine similarity between job description and each resume\n",
    "cosine_similarities = cosine_similarity(tfidf_matrix[0:1], tfidf_matrix[1:]).flatten()"
   ]
  },
  {
   "cell_type": "code",
   "execution_count": 33,
   "id": "f67c9f2f",
   "metadata": {},
   "outputs": [],
   "source": [
    "# Step 5: Add similarity scores to DataFrame and rank\n",
    "df['similarity'] = cosine_similarities\n",
    "df_sorted = df.sort_values(by='similarity', ascending=False)\n"
   ]
  },
  {
   "cell_type": "code",
   "execution_count": 35,
   "id": "5a2208a7",
   "metadata": {},
   "outputs": [
    {
     "name": "stdout",
     "output_type": "stream",
     "text": [
      "                Category  similarity  \\\n",
      "185  Mechanical Engineer    0.126035   \n",
      "195  Mechanical Engineer    0.126035   \n",
      "\n",
      "                                                Resume  \n",
      "185  Education Details \\r\\nMay 1999 to September 20...  \n",
      "195  Education Details \\r\\nMay 1999 to September 20...  \n"
     ]
    }
   ],
   "source": [
    "# Display top matches\n",
    "print(df_sorted[['Category', 'similarity', 'Resume']].head(2))"
   ]
  }
 ],
 "metadata": {
  "kernelspec": {
   "display_name": "Python 3",
   "language": "python",
   "name": "python3"
  },
  "language_info": {
   "codemirror_mode": {
    "name": "ipython",
    "version": 3
   },
   "file_extension": ".py",
   "mimetype": "text/x-python",
   "name": "python",
   "nbconvert_exporter": "python",
   "pygments_lexer": "ipython3",
   "version": "3.12.6"
  }
 },
 "nbformat": 4,
 "nbformat_minor": 5
}
