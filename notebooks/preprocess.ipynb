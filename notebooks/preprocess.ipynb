{
 "cells": [
  {
   "cell_type": "code",
   "execution_count": 1,
   "id": "435dd474",
   "metadata": {},
   "outputs": [],
   "source": [
    "import pandas as pd"
   ]
  },
  {
   "cell_type": "code",
   "execution_count": null,
   "id": "c74b6376",
   "metadata": {},
   "outputs": [],
   "source": [
    "df = pd.read_csv('../data/resumes.csv')"
   ]
  },
  {
   "cell_type": "code",
   "execution_count": 16,
   "id": "83af7183",
   "metadata": {},
   "outputs": [
    {
     "data": {
      "text/html": [
       "<div>\n",
       "<style scoped>\n",
       "    .dataframe tbody tr th:only-of-type {\n",
       "        vertical-align: middle;\n",
       "    }\n",
       "\n",
       "    .dataframe tbody tr th {\n",
       "        vertical-align: top;\n",
       "    }\n",
       "\n",
       "    .dataframe thead th {\n",
       "        text-align: right;\n",
       "    }\n",
       "</style>\n",
       "<table border=\"1\" class=\"dataframe\">\n",
       "  <thead>\n",
       "    <tr style=\"text-align: right;\">\n",
       "      <th></th>\n",
       "      <th>Category</th>\n",
       "      <th>Resume</th>\n",
       "    </tr>\n",
       "  </thead>\n",
       "  <tbody>\n",
       "    <tr>\n",
       "      <th>0</th>\n",
       "      <td>Data Science</td>\n",
       "      <td>Skills * Programming Languages: Python (pandas...</td>\n",
       "    </tr>\n",
       "    <tr>\n",
       "      <th>1</th>\n",
       "      <td>Data Science</td>\n",
       "      <td>Education Details \\r\\nMay 2013 to May 2017 B.E...</td>\n",
       "    </tr>\n",
       "  </tbody>\n",
       "</table>\n",
       "</div>"
      ],
      "text/plain": [
       "       Category                                             Resume\n",
       "0  Data Science  Skills * Programming Languages: Python (pandas...\n",
       "1  Data Science  Education Details \\r\\nMay 2013 to May 2017 B.E..."
      ]
     },
     "execution_count": 16,
     "metadata": {},
     "output_type": "execute_result"
    }
   ],
   "source": [
    "df.head(2)"
   ]
  },
  {
   "cell_type": "code",
   "execution_count": 17,
   "id": "bb3ad9a3",
   "metadata": {},
   "outputs": [
    {
     "data": {
      "text/plain": [
       "array(['Data Science', 'HR', 'Advocate', 'Arts', 'Web Designing',\n",
       "       'Mechanical Engineer', 'Sales', 'Health and fitness',\n",
       "       'Civil Engineer', 'Java Developer', 'Business Analyst',\n",
       "       'SAP Developer', 'Automation Testing', 'Electrical Engineering',\n",
       "       'Operations Manager', 'Python Developer', 'DevOps Engineer',\n",
       "       'Network Security Engineer', 'PMO', 'Database', 'Hadoop',\n",
       "       'ETL Developer', 'DotNet Developer', 'Blockchain', 'Testing'],\n",
       "      dtype=object)"
      ]
     },
     "execution_count": 17,
     "metadata": {},
     "output_type": "execute_result"
    }
   ],
   "source": [
    "df['Category'].unique()"
   ]
  },
  {
   "cell_type": "code",
   "execution_count": 13,
   "id": "83b6119b",
   "metadata": {},
   "outputs": [],
   "source": [
    "SKILL_HEADERS = [\n",
    "    \"skills\", \"technical skills\", \"skill set\", \"core skills\"\n",
    "]\n",
    "QUAL_HEADERS = [\n",
    "    \"education\", \"qualifications\", \"academic background\", \"academic details\"\n",
    "]\n",
    "EXP_HEADERS = [\n",
    "    \"experience\", \"work experience\", \"professional experience\", \"employment history\", \"company details\"\n",
    "]\n",
    "PROJ_HEADERS = [\n",
    "    \"projects\", \"project\", \"project details\", \"academic projects\", \"professional projects\"\n",
    "]\n"
   ]
  },
  {
   "cell_type": "code",
   "execution_count": 18,
   "id": "41067cdf",
   "metadata": {},
   "outputs": [],
   "source": [
    "import re\n",
    "import pandas as pd\n",
    "\n",
    "def extract_section(text, headers, all_headers):\n",
    "    # Build pattern for all headers except the current section\n",
    "    other_headers = [h for h in all_headers if h not in headers]\n",
    "    header_pattern = '|'.join([rf\"\\b{re.escape(h)}\\b\" for h in headers])\n",
    "    other_pattern = '|'.join([rf\"\\b{re.escape(h)}\\b\" for h in other_headers])\n",
    "    # Regex to extract section\n",
    "    pattern = rf\"({header_pattern})(.*?)(?=({other_pattern})|$)\"\n",
    "    match = re.search(pattern, text, re.IGNORECASE | re.DOTALL)\n",
    "    if match:\n",
    "        return match.group(2).strip()\n",
    "    return \"\"\n",
    "\n",
    "def parse_resume(text):\n",
    "    # All possible headers\n",
    "    all_headers = SKILL_HEADERS + QUAL_HEADERS + EXP_HEADERS + PROJ_HEADERS\n",
    "    # Extract each section\n",
    "    skills = extract_section(text, SKILL_HEADERS, all_headers)\n",
    "    qualifications = extract_section(text, QUAL_HEADERS, all_headers)\n",
    "    experience = extract_section(text, EXP_HEADERS, all_headers)\n",
    "    projects = extract_section(text, PROJ_HEADERS, all_headers)\n",
    "    return pd.Series([skills, qualifications, experience, projects])\n",
    "\n",
    "# Example usage:\n",
    "df[['Skills', 'Qualifications', 'Experience', 'Projects']] = df['Resume'].apply(parse_resume)\n",
    "df = df.drop(columns=['Resume'])\n",
    "df.to_csv('processed_resumes.csv', index=False)\n"
   ]
  }
 ],
 "metadata": {
  "kernelspec": {
   "display_name": "Python 3",
   "language": "python",
   "name": "python3"
  },
  "language_info": {
   "codemirror_mode": {
    "name": "ipython",
    "version": 3
   },
   "file_extension": ".py",
   "mimetype": "text/x-python",
   "name": "python",
   "nbconvert_exporter": "python",
   "pygments_lexer": "ipython3",
   "version": "3.12.6"
  }
 },
 "nbformat": 4,
 "nbformat_minor": 5
}
