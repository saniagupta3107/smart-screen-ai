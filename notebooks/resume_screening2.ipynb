{
 "cells": [
  {
   "cell_type": "code",
   "execution_count": 4,
   "id": "1a824947",
   "metadata": {},
   "outputs": [
    {
     "name": "stdout",
     "output_type": "stream",
     "text": [
      "Note: you may need to restart the kernel to use updated packages.\n"
     ]
    }
   ],
   "source": [
    "%pip install pandas spacy langchain-community sentence-transformers transformers faiss-cpu scipy tqdm --quiet"
   ]
  },
  {
   "cell_type": "code",
   "execution_count": 8,
   "id": "347898fe",
   "metadata": {},
   "outputs": [
    {
     "name": "stdout",
     "output_type": "stream",
     "text": [
      "Defaulting to user installation because normal site-packages is not writeable\n",
      "Collecting langchain-huggingface\n",
      "  Downloading langchain_huggingface-0.2.0-py3-none-any.whl.metadata (941 bytes)\n",
      "Requirement already satisfied: langchain-core<1.0.0,>=0.3.59 in c:\\users\\dilshad\\appdata\\roaming\\python\\python312\\site-packages (from langchain-huggingface) (0.3.63)\n",
      "Requirement already satisfied: tokenizers>=0.19.1 in c:\\users\\dilshad\\appdata\\roaming\\python\\python312\\site-packages (from langchain-huggingface) (0.21.1)\n",
      "Requirement already satisfied: transformers>=4.39.0 in c:\\users\\dilshad\\appdata\\roaming\\python\\python312\\site-packages (from langchain-huggingface) (4.49.0)\n",
      "Requirement already satisfied: sentence-transformers>=2.6.0 in c:\\users\\dilshad\\appdata\\roaming\\python\\python312\\site-packages (from langchain-huggingface) (4.1.0)\n",
      "Collecting huggingface-hub>=0.30.2 (from langchain-huggingface)\n",
      "  Downloading huggingface_hub-0.32.4-py3-none-any.whl.metadata (14 kB)\n",
      "Requirement already satisfied: langsmith<0.4,>=0.1.126 in c:\\users\\dilshad\\appdata\\roaming\\python\\python312\\site-packages (from langchain-core<1.0.0,>=0.3.59->langchain-huggingface) (0.3.45)\n",
      "Requirement already satisfied: tenacity!=8.4.0,<10.0.0,>=8.1.0 in c:\\users\\dilshad\\appdata\\roaming\\python\\python312\\site-packages (from langchain-core<1.0.0,>=0.3.59->langchain-huggingface) (9.0.0)\n",
      "Requirement already satisfied: jsonpatch<2.0,>=1.33 in c:\\users\\dilshad\\appdata\\roaming\\python\\python312\\site-packages (from langchain-core<1.0.0,>=0.3.59->langchain-huggingface) (1.33)\n",
      "Requirement already satisfied: PyYAML>=5.3 in c:\\users\\dilshad\\appdata\\roaming\\python\\python312\\site-packages (from langchain-core<1.0.0,>=0.3.59->langchain-huggingface) (6.0.2)\n",
      "Requirement already satisfied: packaging<25,>=23.2 in c:\\users\\dilshad\\appdata\\roaming\\python\\python312\\site-packages (from langchain-core<1.0.0,>=0.3.59->langchain-huggingface) (24.1)\n",
      "Requirement already satisfied: typing-extensions>=4.7 in c:\\users\\dilshad\\appdata\\roaming\\python\\python312\\site-packages (from langchain-core<1.0.0,>=0.3.59->langchain-huggingface) (4.12.2)\n",
      "Requirement already satisfied: pydantic>=2.7.4 in c:\\users\\dilshad\\appdata\\roaming\\python\\python312\\site-packages (from langchain-core<1.0.0,>=0.3.59->langchain-huggingface) (2.10.6)\n",
      "Requirement already satisfied: jsonpointer>=1.9 in c:\\users\\dilshad\\appdata\\roaming\\python\\python312\\site-packages (from jsonpatch<2.0,>=1.33->langchain-core<1.0.0,>=0.3.59->langchain-huggingface) (3.0.0)\n",
      "Requirement already satisfied: httpx<1,>=0.23.0 in c:\\users\\dilshad\\appdata\\roaming\\python\\python312\\site-packages (from langsmith<0.4,>=0.1.126->langchain-core<1.0.0,>=0.3.59->langchain-huggingface) (0.28.1)\n",
      "Requirement already satisfied: orjson<4.0.0,>=3.9.14 in c:\\users\\dilshad\\appdata\\roaming\\python\\python312\\site-packages (from langsmith<0.4,>=0.1.126->langchain-core<1.0.0,>=0.3.59->langchain-huggingface) (3.10.18)\n",
      "Requirement already satisfied: requests<3,>=2 in c:\\users\\dilshad\\appdata\\roaming\\python\\python312\\site-packages (from langsmith<0.4,>=0.1.126->langchain-core<1.0.0,>=0.3.59->langchain-huggingface) (2.32.3)\n",
      "Requirement already satisfied: requests-toolbelt<2.0.0,>=1.0.0 in c:\\users\\dilshad\\appdata\\roaming\\python\\python312\\site-packages (from langsmith<0.4,>=0.1.126->langchain-core<1.0.0,>=0.3.59->langchain-huggingface) (1.0.0)\n",
      "Requirement already satisfied: zstandard<0.24.0,>=0.23.0 in c:\\users\\dilshad\\appdata\\roaming\\python\\python312\\site-packages (from langsmith<0.4,>=0.1.126->langchain-core<1.0.0,>=0.3.59->langchain-huggingface) (0.23.0)\n",
      "Requirement already satisfied: anyio in c:\\users\\dilshad\\appdata\\roaming\\python\\python312\\site-packages (from httpx<1,>=0.23.0->langsmith<0.4,>=0.1.126->langchain-core<1.0.0,>=0.3.59->langchain-huggingface) (4.8.0)\n",
      "Requirement already satisfied: certifi in c:\\users\\dilshad\\appdata\\roaming\\python\\python312\\site-packages (from httpx<1,>=0.23.0->langsmith<0.4,>=0.1.126->langchain-core<1.0.0,>=0.3.59->langchain-huggingface) (2024.8.30)\n",
      "Requirement already satisfied: httpcore==1.* in c:\\users\\dilshad\\appdata\\roaming\\python\\python312\\site-packages (from httpx<1,>=0.23.0->langsmith<0.4,>=0.1.126->langchain-core<1.0.0,>=0.3.59->langchain-huggingface) (1.0.7)\n",
      "Requirement already satisfied: idna in c:\\users\\dilshad\\appdata\\roaming\\python\\python312\\site-packages (from httpx<1,>=0.23.0->langsmith<0.4,>=0.1.126->langchain-core<1.0.0,>=0.3.59->langchain-huggingface) (3.10)\n",
      "Requirement already satisfied: h11<0.15,>=0.13 in c:\\users\\dilshad\\appdata\\roaming\\python\\python312\\site-packages (from httpcore==1.*->httpx<1,>=0.23.0->langsmith<0.4,>=0.1.126->langchain-core<1.0.0,>=0.3.59->langchain-huggingface) (0.14.0)\n",
      "Requirement already satisfied: annotated-types>=0.6.0 in c:\\users\\dilshad\\appdata\\roaming\\python\\python312\\site-packages (from pydantic>=2.7.4->langchain-core<1.0.0,>=0.3.59->langchain-huggingface) (0.7.0)\n",
      "Requirement already satisfied: pydantic-core==2.27.2 in c:\\users\\dilshad\\appdata\\roaming\\python\\python312\\site-packages (from pydantic>=2.7.4->langchain-core<1.0.0,>=0.3.59->langchain-huggingface) (2.27.2)\n",
      "Requirement already satisfied: charset-normalizer<4,>=2 in c:\\users\\dilshad\\appdata\\roaming\\python\\python312\\site-packages (from requests<3,>=2->langsmith<0.4,>=0.1.126->langchain-core<1.0.0,>=0.3.59->langchain-huggingface) (3.4.0)\n",
      "Requirement already satisfied: urllib3<3,>=1.21.1 in c:\\users\\dilshad\\appdata\\roaming\\python\\python312\\site-packages (from requests<3,>=2->langsmith<0.4,>=0.1.126->langchain-core<1.0.0,>=0.3.59->langchain-huggingface) (2.2.3)\n",
      "Requirement already satisfied: filelock in c:\\users\\dilshad\\appdata\\roaming\\python\\python312\\site-packages (from huggingface-hub>=0.30.2->langchain-huggingface) (3.18.0)\n",
      "Requirement already satisfied: fsspec>=2023.5.0 in c:\\users\\dilshad\\appdata\\roaming\\python\\python312\\site-packages (from huggingface-hub>=0.30.2->langchain-huggingface) (2025.3.0)\n",
      "Requirement already satisfied: tqdm>=4.42.1 in c:\\users\\dilshad\\appdata\\roaming\\python\\python312\\site-packages (from huggingface-hub>=0.30.2->langchain-huggingface) (4.66.5)\n",
      "Requirement already satisfied: torch>=1.11.0 in c:\\users\\dilshad\\appdata\\roaming\\python\\python312\\site-packages (from sentence-transformers>=2.6.0->langchain-huggingface) (2.6.0)\n",
      "Requirement already satisfied: scikit-learn in c:\\users\\dilshad\\appdata\\roaming\\python\\python312\\site-packages (from sentence-transformers>=2.6.0->langchain-huggingface) (1.6.1)\n",
      "Requirement already satisfied: scipy in c:\\users\\dilshad\\appdata\\roaming\\python\\python312\\site-packages (from sentence-transformers>=2.6.0->langchain-huggingface) (1.14.1)\n",
      "Requirement already satisfied: Pillow in c:\\users\\dilshad\\appdata\\roaming\\python\\python312\\site-packages (from sentence-transformers>=2.6.0->langchain-huggingface) (11.0.0)\n",
      "Requirement already satisfied: numpy>=1.17 in c:\\users\\dilshad\\appdata\\roaming\\python\\python312\\site-packages (from transformers>=4.39.0->langchain-huggingface) (2.0.2)\n",
      "Requirement already satisfied: regex!=2019.12.17 in c:\\users\\dilshad\\appdata\\roaming\\python\\python312\\site-packages (from transformers>=4.39.0->langchain-huggingface) (2024.11.6)\n",
      "Requirement already satisfied: safetensors>=0.4.1 in c:\\users\\dilshad\\appdata\\roaming\\python\\python312\\site-packages (from transformers>=4.39.0->langchain-huggingface) (0.5.3)\n",
      "Requirement already satisfied: networkx in c:\\users\\dilshad\\appdata\\roaming\\python\\python312\\site-packages (from torch>=1.11.0->sentence-transformers>=2.6.0->langchain-huggingface) (3.4.2)\n",
      "Requirement already satisfied: jinja2 in c:\\users\\dilshad\\appdata\\roaming\\python\\python312\\site-packages (from torch>=1.11.0->sentence-transformers>=2.6.0->langchain-huggingface) (3.1.4)\n",
      "Requirement already satisfied: setuptools in c:\\users\\dilshad\\appdata\\roaming\\python\\python312\\site-packages (from torch>=1.11.0->sentence-transformers>=2.6.0->langchain-huggingface) (75.8.0)\n",
      "Requirement already satisfied: sympy==1.13.1 in c:\\users\\dilshad\\appdata\\roaming\\python\\python312\\site-packages (from torch>=1.11.0->sentence-transformers>=2.6.0->langchain-huggingface) (1.13.1)\n",
      "Requirement already satisfied: mpmath<1.4,>=1.1.0 in c:\\users\\dilshad\\appdata\\roaming\\python\\python312\\site-packages (from sympy==1.13.1->torch>=1.11.0->sentence-transformers>=2.6.0->langchain-huggingface) (1.3.0)\n",
      "Requirement already satisfied: colorama in c:\\users\\dilshad\\appdata\\roaming\\python\\python312\\site-packages (from tqdm>=4.42.1->huggingface-hub>=0.30.2->langchain-huggingface) (0.4.6)\n",
      "Requirement already satisfied: sniffio>=1.1 in c:\\users\\dilshad\\appdata\\roaming\\python\\python312\\site-packages (from anyio->httpx<1,>=0.23.0->langsmith<0.4,>=0.1.126->langchain-core<1.0.0,>=0.3.59->langchain-huggingface) (1.3.1)\n",
      "Requirement already satisfied: MarkupSafe>=2.0 in c:\\users\\dilshad\\appdata\\roaming\\python\\python312\\site-packages (from jinja2->torch>=1.11.0->sentence-transformers>=2.6.0->langchain-huggingface) (3.0.2)\n",
      "Requirement already satisfied: joblib>=1.2.0 in c:\\users\\dilshad\\appdata\\roaming\\python\\python312\\site-packages (from scikit-learn->sentence-transformers>=2.6.0->langchain-huggingface) (1.4.2)\n",
      "Requirement already satisfied: threadpoolctl>=3.1.0 in c:\\users\\dilshad\\appdata\\roaming\\python\\python312\\site-packages (from scikit-learn->sentence-transformers>=2.6.0->langchain-huggingface) (3.5.0)\n",
      "Downloading langchain_huggingface-0.2.0-py3-none-any.whl (27 kB)\n",
      "Downloading huggingface_hub-0.32.4-py3-none-any.whl (512 kB)\n",
      "Installing collected packages: huggingface-hub, langchain-huggingface\n",
      "\n",
      "  Attempting uninstall: huggingface-hub\n",
      "\n",
      "    Found existing installation: huggingface-hub 0.29.3\n",
      "\n",
      "   ---------------------------------------- 0/2 [huggingface-hub]\n",
      "    Uninstalling huggingface-hub-0.29.3:\n",
      "   ---------------------------------------- 0/2 [huggingface-hub]\n",
      "      Successfully uninstalled huggingface-hub-0.29.3\n",
      "   ---------------------------------------- 0/2 [huggingface-hub]\n",
      "   ---------------------------------------- 0/2 [huggingface-hub]\n",
      "   ---------------------------------------- 0/2 [huggingface-hub]\n",
      "   ---------------------------------------- 0/2 [huggingface-hub]\n",
      "   ---------------------------------------- 0/2 [huggingface-hub]\n",
      "   ---------------------------------------- 0/2 [huggingface-hub]\n",
      "   ---------------------------------------- 0/2 [huggingface-hub]\n",
      "   ---------------------------------------- 0/2 [huggingface-hub]\n",
      "   ---------------------------------------- 0/2 [huggingface-hub]\n",
      "   ---------------------------------------- 0/2 [huggingface-hub]\n",
      "   ---------------------------------------- 0/2 [huggingface-hub]\n",
      "   ---------------------------------------- 0/2 [huggingface-hub]\n",
      "   ---------------------------------------- 0/2 [huggingface-hub]\n",
      "   ---------------------------------------- 0/2 [huggingface-hub]\n",
      "   ---------------------------------------- 0/2 [huggingface-hub]\n",
      "   ---------------------------------------- 0/2 [huggingface-hub]\n",
      "   ---------------------------------------- 0/2 [huggingface-hub]\n",
      "   ---------------------------------------- 0/2 [huggingface-hub]\n",
      "   ---------------------------------------- 0/2 [huggingface-hub]\n",
      "   ---------------------------------------- 0/2 [huggingface-hub]\n",
      "   ---------------------------------------- 0/2 [huggingface-hub]\n",
      "   ---------------------------------------- 0/2 [huggingface-hub]\n",
      "   ---------------------------------------- 0/2 [huggingface-hub]\n",
      "   ---------------------------------------- 0/2 [huggingface-hub]\n",
      "   ---------------------------------------- 0/2 [huggingface-hub]\n",
      "   ---------------------------------------- 0/2 [huggingface-hub]\n",
      "   ---------------------------------------- 0/2 [huggingface-hub]\n",
      "   ---------------------------------------- 0/2 [huggingface-hub]\n",
      "   ---------------------------------------- 0/2 [huggingface-hub]\n",
      "   ---------------------------------------- 0/2 [huggingface-hub]\n",
      "   ---------------------------------------- 0/2 [huggingface-hub]\n",
      "   ---------------------------------------- 0/2 [huggingface-hub]\n",
      "   ---------------------------------------- 0/2 [huggingface-hub]\n",
      "   ---------------------------------------- 0/2 [huggingface-hub]\n",
      "   ---------------------------------------- 0/2 [huggingface-hub]\n",
      "   ---------------------------------------- 0/2 [huggingface-hub]\n",
      "   ---------------------------------------- 0/2 [huggingface-hub]\n",
      "   ---------------------------------------- 0/2 [huggingface-hub]\n",
      "   ---------------------------------------- 0/2 [huggingface-hub]\n",
      "   ---------------------------------------- 0/2 [huggingface-hub]\n",
      "   ---------------------------------------- 0/2 [huggingface-hub]\n",
      "   ---------------------------------------- 0/2 [huggingface-hub]\n",
      "   ---------------------------------------- 0/2 [huggingface-hub]\n",
      "   ---------------------------------------- 0/2 [huggingface-hub]\n",
      "   ---------------------------------------- 0/2 [huggingface-hub]\n",
      "   ---------------------------------------- 0/2 [huggingface-hub]\n",
      "   ---------------------------------------- 0/2 [huggingface-hub]\n",
      "   ---------------------------------------- 0/2 [huggingface-hub]\n",
      "   ---------------------------------------- 0/2 [huggingface-hub]\n",
      "   ---------------------------------------- 0/2 [huggingface-hub]\n",
      "   ---------------------------------------- 0/2 [huggingface-hub]\n",
      "   ---------------------------------------- 0/2 [huggingface-hub]\n",
      "   ---------------------------------------- 0/2 [huggingface-hub]\n",
      "   ---------------------------------------- 0/2 [huggingface-hub]\n",
      "   ---------------------------------------- 0/2 [huggingface-hub]\n",
      "   ---------------------------------------- 0/2 [huggingface-hub]\n",
      "   ---------------------------------------- 0/2 [huggingface-hub]\n",
      "   -------------------- ------------------- 1/2 [langchain-huggingface]\n",
      "   -------------------- ------------------- 1/2 [langchain-huggingface]\n",
      "   -------------------- ------------------- 1/2 [langchain-huggingface]\n",
      "   -------------------- ------------------- 1/2 [langchain-huggingface]\n",
      "   ---------------------------------------- 2/2 [langchain-huggingface]\n",
      "\n",
      "Successfully installed huggingface-hub-0.32.4 langchain-huggingface-0.2.0\n",
      "Note: you may need to restart the kernel to use updated packages.\n"
     ]
    }
   ],
   "source": [
    "%pip install -U langchain-huggingface\n"
   ]
  },
  {
   "cell_type": "code",
   "execution_count": 1,
   "id": "4ef36210",
   "metadata": {},
   "outputs": [],
   "source": [
    "# ✅ Imports\n",
    "import pandas as pd\n",
    "import numpy as np\n",
    "import spacy\n",
    "import re\n",
    "from tqdm.notebook import tqdm\n",
    "from scipy.spatial.distance import cosine\n",
    "from langchain_huggingface import HuggingFaceEmbeddings\n"
   ]
  },
  {
   "cell_type": "code",
   "execution_count": 9,
   "id": "4518e7d5",
   "metadata": {},
   "outputs": [],
   "source": [
    "# ✅ Load spaCy NER model\n",
    "nlp = spacy.load(\"en_core_web_sm\")\n"
   ]
  },
  {
   "cell_type": "code",
   "execution_count": 2,
   "id": "0038382d",
   "metadata": {},
   "outputs": [
    {
     "name": "stdout",
     "output_type": "stream",
     "text": [
      "WARNING:tensorflow:From C:\\Users\\DILSHAD\\AppData\\Roaming\\Python\\Python312\\site-packages\\tf_keras\\src\\losses.py:2976: The name tf.losses.sparse_softmax_cross_entropy is deprecated. Please use tf.compat.v1.losses.sparse_softmax_cross_entropy instead.\n",
      "\n"
     ]
    }
   ],
   "source": [
    "embedder = HuggingFaceEmbeddings(\n",
    "    model_name=\"BAAI/bge-small-en-v1.5\",\n",
    "    # model_kwargs={\"device\": \"cpu\"},          # optional – \"cuda\" if you have a GPU\n",
    "    encode_kwargs={\"normalize_embeddings\": True}  # ✅ ← put it here\n",
    ")"
   ]
  },
  {
   "cell_type": "code",
   "execution_count": 10,
   "id": "d17fec2c",
   "metadata": {},
   "outputs": [],
   "source": [
    "\n",
    "def clean_text(text):\n",
    "    text = text.replace(\"\\u00a0\", \" \")\n",
    "    text = re.sub(r\"\\s+\", \" \", text).strip()\n",
    "    return text\n",
    "\n",
    "def extract_skills(text):\n",
    "    doc = nlp(text)\n",
    "    keep_labels = {\"ORG\", \"PRODUCT\", \"LANGUAGE\", \"WORK_OF_ART\", \"NORP\", \"GPE\"}\n",
    "    skills = {ent.text.strip() for ent in doc.ents if ent.label_ in keep_labels}\n",
    "    return [s for s in skills if len(s) > 1 and not s.isdigit()]\n",
    "\n",
    "def embed(text):\n",
    "    return np.array(embedder.embed_query(text), dtype=np.float32)\n",
    "\n",
    "def cosine_score(vec1, vec2):\n",
    "    return 1 - cosine(vec1, vec2)\n",
    "\n",
    "def rank_resumes(df, job_description, top_k=5):\n",
    "    jd_clean = clean_text(job_description)\n",
    "    jd_skills = extract_skills(jd_clean)\n",
    "    jd_text = \" ; \".join(jd_skills) if jd_skills else jd_clean\n",
    "    jd_vec = embed(jd_text)\n",
    "\n",
    "    results = []\n",
    "    for idx, resume in tqdm(df[\"Resume\"].items(), total=len(df)):\n",
    "        if not isinstance(resume, str) or resume.strip() == \"\":\n",
    "            continue\n",
    "\n",
    "        resume_clean = clean_text(resume)[:4000]\n",
    "        res_skills = extract_skills(resume_clean)\n",
    "        res_text = \" ; \".join(res_skills) if res_skills else resume_clean\n",
    "        res_vec = embed(res_text)\n",
    "\n",
    "        score = cosine_score(res_vec, jd_vec)\n",
    "        row = df.loc[idx].to_dict()\n",
    "        row[\"match_score\"] = round(score, 4)\n",
    "        results.append(row)\n",
    "\n",
    "    return pd.DataFrame(results).sort_values(\"match_score\", ascending=False).head(top_k)"
   ]
  },
  {
   "cell_type": "code",
   "execution_count": null,
   "id": "94ff097a",
   "metadata": {},
   "outputs": [
    {
     "data": {
      "text/html": [
       "<div>\n",
       "<style scoped>\n",
       "    .dataframe tbody tr th:only-of-type {\n",
       "        vertical-align: middle;\n",
       "    }\n",
       "\n",
       "    .dataframe tbody tr th {\n",
       "        vertical-align: top;\n",
       "    }\n",
       "\n",
       "    .dataframe thead th {\n",
       "        text-align: right;\n",
       "    }\n",
       "</style>\n",
       "<table border=\"1\" class=\"dataframe\">\n",
       "  <thead>\n",
       "    <tr style=\"text-align: right;\">\n",
       "      <th></th>\n",
       "      <th>Category</th>\n",
       "      <th>Resume</th>\n",
       "    </tr>\n",
       "  </thead>\n",
       "  <tbody>\n",
       "    <tr>\n",
       "      <th>0</th>\n",
       "      <td>Data Science</td>\n",
       "      <td>Skills * Programming Languages: Python (pandas...</td>\n",
       "    </tr>\n",
       "    <tr>\n",
       "      <th>1</th>\n",
       "      <td>Data Science</td>\n",
       "      <td>Education Details \\r\\nMay 2013 to May 2017 B.E...</td>\n",
       "    </tr>\n",
       "    <tr>\n",
       "      <th>2</th>\n",
       "      <td>Data Science</td>\n",
       "      <td>Areas of Interest Deep Learning, Control Syste...</td>\n",
       "    </tr>\n",
       "    <tr>\n",
       "      <th>3</th>\n",
       "      <td>Data Science</td>\n",
       "      <td>Skills â¢ R â¢ Python â¢ SAP HANA â¢ Table...</td>\n",
       "    </tr>\n",
       "    <tr>\n",
       "      <th>4</th>\n",
       "      <td>Data Science</td>\n",
       "      <td>Education Details \\r\\n MCA   YMCAUST,  Faridab...</td>\n",
       "    </tr>\n",
       "  </tbody>\n",
       "</table>\n",
       "</div>"
      ],
      "text/plain": [
       "       Category                                             Resume\n",
       "0  Data Science  Skills * Programming Languages: Python (pandas...\n",
       "1  Data Science  Education Details \\r\\nMay 2013 to May 2017 B.E...\n",
       "2  Data Science  Areas of Interest Deep Learning, Control Syste...\n",
       "3  Data Science  Skills â¢ R â¢ Python â¢ SAP HANA â¢ Table...\n",
       "4  Data Science  Education Details \\r\\n MCA   YMCAUST,  Faridab..."
      ]
     },
     "execution_count": 3,
     "metadata": {},
     "output_type": "execute_result"
    }
   ],
   "source": [
    "df = pd.read_csv(\"../data/resumes.csv\")\n",
    "\n",
    "df.head()\n"
   ]
  },
  {
   "cell_type": "code",
   "execution_count": 4,
   "id": "af6f26f6",
   "metadata": {},
   "outputs": [],
   "source": [
    "job_description = \"\"\"\n",
    "About the job\n",
    "Software Developer\n",
    "\n",
    "\n",
    "\n",
    "Department: Software development team\n",
    "Starting date: Immediately upon Selection\n",
    "Report to: Software Development Manager\n",
    "Location: Elsyca HQ, Wijgmaal, Leuven\n",
    "Employment: Full time\n",
    "\n",
    "\n",
    "The Opportunity\n",
    "\n",
    "Elsyca is seeking a passionate and driven Software Developer to join our innovative software development team working on the numerical modeling of electrochemical processes. This is a unique opportunity to work on advanced simulation and modeling tools that support various industries including automotive, aerospace, electronics, medical and energy.\n",
    "In this role, you will contribute to the ongoing digital transformation of diverse industries by building cutting-edge desktop applications that enhance operational efficiency and performance.\n",
    "\n",
    "\n",
    "The Role\n",
    "\n",
    "As a Software Developer, you will be instrumental in developing high-quality desktop applications that empower our users in optimizing their manufacturing and operational processes. You will work closely with a talented team of developers and domain experts to ensure our software solutions are robust, intuitive, and efficient.\n",
    "Key responsibilities include implementing new features, resolving technical challenges, and collaborating on innovative tools that address the needs of this highly technical and impactful industry.\n",
    "This is an exciting opportunity to play a key role in delivering Elsyca’s cutting-edge solutions while growing your expertise in software development.\n",
    "\n",
    "\n",
    "Key Responsibilities\n",
    "\n",
    "The successful candidate will be part of the software development team. His (her) task will be to:\n",
    "Design, develop and test software programs that are leading the way in this industry.\n",
    "Maintain the software programs once they are up and running.\n",
    "Communicate and collaborate as team member/teammate in the software development team.\n",
    "Interact with the application and consulting & engineering team to discuss new specifications.\n",
    "Contribute to DevOps practices to streamline software development, deployment, and maintenance processes.\n",
    "Report to the software development manager.\n",
    "\n",
    "\n",
    "About you\n",
    "\n",
    "BS, MS or PhD in Computer Science or programming, or equivalent by experience.\n",
    "Experience in software development and architecture on Windows and/or Linux.\n",
    "Very good understanding of object-oriented design, data structures and algorithms.\n",
    "Experience with TDD, Unit Testing and Agile software development.\n",
    "Good understanding on the design of graphical user interfaces.\n",
    "Experience in the creation and management of a product suite architecture.\n",
    "Monitor system performance, logs, and alerts to detect and resolve issues proactively.\n",
    "Excellent problem-solving skills.\n",
    "Fluent English (knowledge of Dutch and/or German, French is favorable).\n",
    "Have good communications skills.\n",
    "Be able to work as an individual and as part of a team.\n",
    "Be able to work to tight deadlines.\n",
    "Work in a logical manner.\n",
    "Demonstrate good attention to detail.\n",
    "\n",
    "\n",
    "Bonus Skills:\n",
    "Experience with C++, Qt / Qml (https://www.qt.io/developers).\n",
    "Familiarity with scientific calculations, like Finite Element Methods.\n",
    "Familiarity with AI concepts, tools, or frameworks, or an eagerness to gain experience in this field.\n",
    "Knowledge of database design, Sql, usage, or a willingness to develop expertise in this area.\n",
    "Automation of software deployment, testing, and monitoring to improve efficiency and reliability.\n",
    "Experience with Python, Jenkins, GitHub, OpenProject.\n",
    "\n",
    "\n",
    "What we offer\n",
    "\n",
    "Elsyca offers you a challenging and varied job content.\n",
    "Full-time employment in a dynamic and highly ambitious company.\n",
    "The opportunity to contribute to the expansion of a trusted global brand in technical excellence.\n",
    "Work autonomy with a results-oriented culture.\n",
    "Access to professional development and training opportunities.\n",
    "An attractive salary aligned with your experience and impact.\n",
    "\n",
    "\n",
    "About Elsyca\n",
    "\n",
    "Founded in 1997, Elsyca is the culmination of research efforts in numerical modeling of electrochemical processes. Its name is derived from 'electrochemical system calculations'.\n",
    "Today, Elsyca is active in the markets of corrosion design & engineering, cathodic protection & AC mitigation, surface finishing, and electrochemical manufacturing within a variety of industries – such as automotive, aerospace, electronics, medical and energy. The combination of the practical engineering knowledge, the in-house developed family of engineering simulation tools, and the continuous focus on R&D and innovation has established Elsyca as a trustworthy and appreciated partner for many clients across the globe.\n",
    "Elsyca’s reliable and innovative solutions meet market expectations by reducing the cost of manufacturing goods or ownership of assets. Everyday Elsyca’s employees work to keep pipelines operating safely, to advance renewable offshore energy or to produce goods with less natural resources.\n",
    "\n",
    "\n",
    "Contact\n",
    "\n",
    "If you have any questions or if you would like to apply, send an email to recruitment@elsyca.com.\n",
    "\"\"\"\n"
   ]
  },
  {
   "cell_type": "code",
   "execution_count": 11,
   "id": "b30877af",
   "metadata": {},
   "outputs": [
    {
     "data": {
      "application/vnd.jupyter.widget-view+json": {
       "model_id": "9278c87f07884e8cb2137119ebb6d8c4",
       "version_major": 2,
       "version_minor": 0
      },
      "text/plain": [
       "  0%|          | 0/962 [00:00<?, ?it/s]"
      ]
     },
     "metadata": {},
     "output_type": "display_data"
    }
   ],
   "source": [
    "top_matches = rank_resumes(df, job_description, top_k=10)\n",
    "\n"
   ]
  },
  {
   "cell_type": "code",
   "execution_count": 20,
   "id": "7230188c",
   "metadata": {},
   "outputs": [
    {
     "data": {
      "text/plain": [
       "Category                                          Java Developer\n",
       "Resume         Education Details \\r\\nJanuary 2016 B.E Informa...\n",
       "match_score                                               0.7176\n",
       "Name: 329, dtype: object"
      ]
     },
     "execution_count": 20,
     "metadata": {},
     "output_type": "execute_result"
    }
   ],
   "source": [
    "top_matches.iloc[1]"
   ]
  },
  {
   "cell_type": "code",
   "execution_count": null,
   "id": "7ac08e4f",
   "metadata": {},
   "outputs": [],
   "source": [
    "top_matches.drop(columns=[\"resume\"]).reset_index(drop=True)"
   ]
  },
  {
   "cell_type": "code",
   "execution_count": null,
   "id": "654280f7",
   "metadata": {},
   "outputs": [],
   "source": [
    "# View the full text of the best matched résumé\n",
    "print(top_matches.iloc[0][\"resume\"])\n"
   ]
  }
 ],
 "metadata": {
  "kernelspec": {
   "display_name": "Python 3",
   "language": "python",
   "name": "python3"
  },
  "language_info": {
   "codemirror_mode": {
    "name": "ipython",
    "version": 3
   },
   "file_extension": ".py",
   "mimetype": "text/x-python",
   "name": "python",
   "nbconvert_exporter": "python",
   "pygments_lexer": "ipython3",
   "version": "3.12.6"
  }
 },
 "nbformat": 4,
 "nbformat_minor": 5
}
